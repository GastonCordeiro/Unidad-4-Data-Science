{
 "cells": [
  {
   "cell_type": "code",
   "execution_count": 1,
   "metadata": {},
   "outputs": [],
   "source": [
    "import pandas as pd\n",
    "import numpy as np\n",
    "df=pd.read_csv (\"worldcup2014.csv\")"
   ]
  },
  {
   "cell_type": "markdown",
   "metadata": {},
   "source": [
    "Desafío 1: Generación de funciones\n",
    "Genere funciones para calcular la media y varianza de un vector. Debe cumplir con los\n",
    "siguientes requistos:\n",
    "Ambas funciones deben ingresar un argumento x .\n",
    "Las funciones deben contener docstrings con la documentación asociada a la\n",
    "variable.\n",
    "Deben retornar el resultado (tip: utilice return ).\n",
    "La función de la varianza debe llamar a la función de la media.\n",
    "Utilice las funciones para reportar la información sobre goles_favor , goles_contra ,\n",
    "puntos ."
   ]
  },
  {
   "cell_type": "code",
   "execution_count": 2,
   "metadata": {},
   "outputs": [
    {
     "name": "stdout",
     "output_type": "stream",
     "text": [
      "Help on function media in module __main__:\n",
      "\n",
      "media(x)\n",
      "    Help\n",
      "\n"
     ]
    }
   ],
   "source": [
    "def media(x):\n",
    "    \"\"\"\n",
    "    Help\n",
    "  \n",
    "    \"\"\"\n",
    "   \n",
    "    \n",
    "    return sum(x)/len(x)\n",
    "\n",
    "def varianza(x):\n",
    "    \"\"\"\n",
    "    Help\n",
    "    \n",
    "    \"\"\"\n",
    "    return media((x-media(x))**2)\n",
    "help(media)"
   ]
  },
  {
   "cell_type": "markdown",
   "metadata": {},
   "source": [
    "Desafío 2:\n",
    "A continuación se presenta el siguiente código para obtener la media y varianza de una variable\n",
    "para distintos continentes\n",
    "En base a la información disponible, genere una función con los argumentos group_by y\n",
    "var para ingresar una lista de submuestras y una variable a analizar, respectivamente.\n",
    "La función debe retornar un DataFrame .\n",
    "Implemente la función para extraer la información sobre la cantidad de goles a favor, en contra\n",
    "y la cantidad de puntos.\n",
    "Reporte en qué continente se encuentra la mayor cantidad de goles a favor, en contra y\n",
    "cantidad de puntos."
   ]
  },
  {
   "cell_type": "code",
   "execution_count": 3,
   "metadata": {},
   "outputs": [
    {
     "data": {
      "text/html": [
       "<div>\n",
       "<style scoped>\n",
       "    .dataframe tbody tr th:only-of-type {\n",
       "        vertical-align: middle;\n",
       "    }\n",
       "\n",
       "    .dataframe tbody tr th {\n",
       "        vertical-align: top;\n",
       "    }\n",
       "\n",
       "    .dataframe thead th {\n",
       "        text-align: right;\n",
       "    }\n",
       "</style>\n",
       "<table border=\"1\" class=\"dataframe\">\n",
       "  <thead>\n",
       "    <tr style=\"text-align: right;\">\n",
       "      <th></th>\n",
       "      <th>continente</th>\n",
       "      <th>media_goles</th>\n",
       "      <th>std_goles</th>\n",
       "    </tr>\n",
       "  </thead>\n",
       "  <tbody>\n",
       "    <tr>\n",
       "      <th>0</th>\n",
       "      <td>africa</td>\n",
       "      <td>3.600000</td>\n",
       "      <td>2.640000</td>\n",
       "    </tr>\n",
       "    <tr>\n",
       "      <th>1</th>\n",
       "      <td>europe</td>\n",
       "      <td>4.769231</td>\n",
       "      <td>6.331361</td>\n",
       "    </tr>\n",
       "    <tr>\n",
       "      <th>2</th>\n",
       "      <td>asia</td>\n",
       "      <td>2.250000</td>\n",
       "      <td>0.687500</td>\n",
       "    </tr>\n",
       "    <tr>\n",
       "      <th>3</th>\n",
       "      <td>northamerica</td>\n",
       "      <td>3.250000</td>\n",
       "      <td>1.687500</td>\n",
       "    </tr>\n",
       "    <tr>\n",
       "      <th>4</th>\n",
       "      <td>southamerica</td>\n",
       "      <td>5.666667</td>\n",
       "      <td>3.888889</td>\n",
       "    </tr>\n",
       "  </tbody>\n",
       "</table>\n",
       "</div>"
      ],
      "text/plain": [
       "     continente  media_goles  std_goles\n",
       "0        africa     3.600000   2.640000\n",
       "1        europe     4.769231   6.331361\n",
       "2          asia     2.250000   0.687500\n",
       "3  northamerica     3.250000   1.687500\n",
       "4  southamerica     5.666667   3.888889"
      ]
     },
     "execution_count": 3,
     "metadata": {},
     "output_type": "execute_result"
    }
   ],
   "source": [
    "##Ejercicio 2: A continuación se presenta el siguiente código para obtener la media y\n",
    "##    varianza de una variable para distintos continentes\n",
    "\n",
    "continent = []\n",
    "store_mean = []\n",
    "store_std = []\n",
    "\n",
    "africa_df= df[df['continent'] == \"africa\"]\n",
    "asia_df= df[df['continent'] == \"asia\"]\n",
    "europe_df= df[df['continent'] == \"europe\"]\n",
    "northamerica_df= df[df['continent'] == \"northamerica\"]\n",
    "southamerica_df= df[df['continent'] == \"southamerica\"]\n",
    "\n",
    "for d in [africa_df, europe_df, asia_df, northamerica_df, southamerica_df]:\n",
    "    continent.append(d.iloc[0,1])\n",
    "    store_mean.append(media(d['goles_favor']))\n",
    "    store_std.append(varianza(d['goles_favor']))\n",
    "    \n",
    "tmp = pd.DataFrame({'continente': continent,\n",
    "                   'media_goles': store_mean,\n",
    "                   'std_goles': store_std})\n",
    "\n",
    "tmp"
   ]
  },
  {
   "cell_type": "code",
   "execution_count": null,
   "metadata": {},
   "outputs": [],
   "source": []
  },
  {
   "cell_type": "markdown",
   "metadata": {},
   "source": [
    "Desafío 3: Simulaciones\n",
    "Genere una función generate_pet que devuelva de forma aleatoria un string 'perro' o\n",
    "'gato' . Ejecútela un par de veces.\n",
    "tip: Puede utilizar la función np.random.choice para retornar elementos al azar.\n",
    "Aplique la función generate_pet 20 veces mediante un loop y guarde los resultados en una\n",
    "lista.\n",
    "tip: Puede generar una lista vacía con [ ] y asignarla a un objeto. Puede añadir\n",
    "elementos a la lista con .append .\n",
    "¿Cuál es la probabilidad de elegir un perro al azar? ¿Y un gato?\n",
    "Agrege np.random.seed(2) al inicio del chunk. ¿Qué hace éste método en la simulación?\n"
   ]
  },
  {
   "cell_type": "code",
   "execution_count": 4,
   "metadata": {},
   "outputs": [],
   "source": [
    "def generate_pet():\n",
    "    return np.random.choice(['perro',\"gato\"])"
   ]
  },
  {
   "cell_type": "code",
   "execution_count": 5,
   "metadata": {},
   "outputs": [
    {
     "data": {
      "text/plain": [
       "'gato'"
      ]
     },
     "execution_count": 5,
     "metadata": {},
     "output_type": "execute_result"
    }
   ],
   "source": [
    "generate_pet()"
   ]
  },
  {
   "cell_type": "code",
   "execution_count": 6,
   "metadata": {},
   "outputs": [],
   "source": [
    "mascotas=[]\n",
    "for i in range(20):\n",
    "    mascotas.append(generate_pet())"
   ]
  },
  {
   "cell_type": "code",
   "execution_count": 7,
   "metadata": {},
   "outputs": [
    {
     "data": {
      "text/plain": [
       "['perro',\n",
       " 'perro',\n",
       " 'perro',\n",
       " 'perro',\n",
       " 'perro',\n",
       " 'perro',\n",
       " 'gato',\n",
       " 'perro',\n",
       " 'gato',\n",
       " 'gato',\n",
       " 'perro',\n",
       " 'perro',\n",
       " 'gato',\n",
       " 'perro',\n",
       " 'perro',\n",
       " 'perro',\n",
       " 'gato',\n",
       " 'gato',\n",
       " 'gato',\n",
       " 'perro']"
      ]
     },
     "execution_count": 7,
     "metadata": {},
     "output_type": "execute_result"
    }
   ],
   "source": [
    "mascotas"
   ]
  },
  {
   "cell_type": "code",
   "execution_count": 8,
   "metadata": {},
   "outputs": [
    {
     "data": {
      "text/plain": [
       "perro    0.65\n",
       "gato     0.35\n",
       "dtype: float64"
      ]
     },
     "execution_count": 8,
     "metadata": {},
     "output_type": "execute_result"
    }
   ],
   "source": [
    "pd.Series(mascotas).value_counts(\"%\")"
   ]
  },
  {
   "cell_type": "markdown",
   "metadata": {},
   "source": [
    "Desafío 4: Función simuladora\n",
    "Genere un método llamado simulate_pets_prob que tome como argumento un número\n",
    "finito de simulaciones a generar.\n",
    "El método debe simular dos situaciones young_pet y old_pet , y contar la ocurrencia de\n",
    "los siguientes casos:\n",
    "1. De los dos animales simulados, contar las ocasiones donde por lo menos uno de los\n",
    "animales sea un perro.\n",
    "De los dos animales simulados, contar las ocasiones donde por lo menos uno sea un\n",
    "perro viejo.\n",
    "De los dos animales simulados, contar las ocasiones donde los dos sean perros\n",
    "El método debe tener una semilla pseudoaleatoria de 1.\n",
    "De los tres escenarios, ¿Cuál es el menos probable? ¿Cuál es el más probable?"
   ]
  },
  {
   "cell_type": "code",
   "execution_count": 9,
   "metadata": {},
   "outputs": [],
   "source": [
    "def edad():\n",
    "    return np.random.choice(['joven',\"viejo\"])"
   ]
  },
  {
   "cell_type": "code",
   "execution_count": 10,
   "metadata": {},
   "outputs": [
    {
     "data": {
      "text/plain": [
       "'joven'"
      ]
     },
     "execution_count": 10,
     "metadata": {},
     "output_type": "execute_result"
    }
   ],
   "source": [
    "edad()"
   ]
  },
  {
   "cell_type": "code",
   "execution_count": 11,
   "metadata": {},
   "outputs": [],
   "source": [
    "simulate_pets_prob=[]\n",
    "\n",
    "for i in range(20):\n",
    "    simulate_pets_prob.append(edad())"
   ]
  },
  {
   "cell_type": "code",
   "execution_count": 20,
   "metadata": {},
   "outputs": [],
   "source": [
    "def simulate_pet(x):\n",
    "    np.random.seed(1)\n",
    "    uno=0\n",
    "    dos=0\n",
    "    tres=0\n",
    "    for i in range(x):\n",
    "        a=generate_pet()\n",
    "        b=edad()\n",
    "        c=generate_pet()\n",
    "        d=edad()\n",
    "        if (a==\"perro\" or c==\"perro\"):\n",
    "            uno+=1\n",
    "        if((a==\"perro\" and b==\"viejo\")or (c==\"perro\" and d==\"viejo\")):\n",
    "            dos+=1\n",
    "        if (a==\"perro\" or c==\"perro\"):\n",
    "            tres+=1\n",
    "      \n",
    "    print(uno/x, dos/x, tres/x)"
   ]
  },
  {
   "cell_type": "code",
   "execution_count": 21,
   "metadata": {},
   "outputs": [
    {
     "name": "stdout",
     "output_type": "stream",
     "text": [
      "0.754 0.431 0.754\n"
     ]
    }
   ],
   "source": [
    "simulate_pet(1000)"
   ]
  },
  {
   "cell_type": "code",
   "execution_count": null,
   "metadata": {},
   "outputs": [],
   "source": []
  }
 ],
 "metadata": {
  "kernelspec": {
   "display_name": "Python 3",
   "language": "python",
   "name": "python3"
  },
  "language_info": {
   "codemirror_mode": {
    "name": "ipython",
    "version": 3
   },
   "file_extension": ".py",
   "mimetype": "text/x-python",
   "name": "python",
   "nbconvert_exporter": "python",
   "pygments_lexer": "ipython3",
   "version": "3.7.1"
  }
 },
 "nbformat": 4,
 "nbformat_minor": 2
}
